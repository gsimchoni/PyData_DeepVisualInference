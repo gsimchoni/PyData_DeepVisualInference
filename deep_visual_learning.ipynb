{
 "cells": [
  {
   "cell_type": "markdown",
   "metadata": {},
   "source": [
    "Note my python version:"
   ]
  },
  {
   "cell_type": "code",
   "execution_count": 1,
   "metadata": {},
   "outputs": [
    {
     "name": "stdout",
     "output_type": "stream",
     "text": [
      "3.6.7 (default, Oct 22 2018, 11:32:17) \n",
      "[GCC 8.2.0]\n"
     ]
    }
   ],
   "source": [
    "import sys\n",
    "print(sys.version)"
   ]
  },
  {
   "cell_type": "markdown",
   "metadata": {},
   "source": [
    "Packages you'll need:"
   ]
  },
  {
   "cell_type": "code",
   "execution_count": 2,
   "metadata": {},
   "outputs": [
    {
     "name": "stderr",
     "output_type": "stream",
     "text": [
      "Using TensorFlow backend.\n"
     ]
    }
   ],
   "source": [
    "import pandas as pd\n",
    "import numpy as np\n",
    "import matplotlib.pyplot as plt\n",
    "import seaborn as sns\n",
    "import scipy.stats as st\n",
    "from scipy.ndimage import rotate\n",
    "\n",
    "%matplotlib inline\n",
    "\n",
    "import keras\n",
    "from keras.models import Sequential\n",
    "from keras.layers import Dense, Dropout, Flatten\n",
    "from keras.layers import Conv2D, MaxPooling2D\n",
    "from keras.callbacks import EarlyStopping"
   ]
  },
  {
   "cell_type": "markdown",
   "metadata": {},
   "source": [
    "# Scatter plot example"
   ]
  },
  {
   "cell_type": "markdown",
   "metadata": {},
   "source": [
    "### Sampling Data"
   ]
  },
  {
   "cell_type": "markdown",
   "metadata": {},
   "source": [
    "A function to sample from a bivariate normal distribution with a given rho and sample size n, and map the numbers to the [0, 59] range, so we can later put them in a plot matrix:"
   ]
  },
  {
   "cell_type": "code",
   "execution_count": 3,
   "metadata": {},
   "outputs": [],
   "source": [
    "def sampleBVN(rho, n=50):\n",
    "    mean = [0, 0]\n",
    "    cov = [[1, rho], [rho, 1]]\n",
    "    bvn = np.random.multivariate_normal(mean, cov, n)\n",
    "    bvn = (np.round(bvn, 1) * 10 + 30).astype(int)\n",
    "    bvn[bvn < 0] = 0\n",
    "    bvn[bvn > 59] = 59\n",
    "    r, p_val = st.pearsonr(bvn[:, 0], bvn[:, 1])\n",
    "    sig = p_val < 0.05\n",
    "    return bvn, r, sig"
   ]
  },
  {
   "cell_type": "markdown",
   "metadata": {},
   "source": [
    "Sampling 1K samples for significant rhos (0.2 to 0.9, -0.9 to -0.2), keeping results in a pandas DataFrame:"
   ]
  },
  {
   "cell_type": "code",
   "execution_count": 4,
   "metadata": {},
   "outputs": [
    {
     "name": "stdout",
     "output_type": "stream",
     "text": [
      "(16000, 4)\n"
     ]
    },
    {
     "data": {
      "text/html": [
       "<div>\n",
       "<style scoped>\n",
       "    .dataframe tbody tr th:only-of-type {\n",
       "        vertical-align: middle;\n",
       "    }\n",
       "\n",
       "    .dataframe tbody tr th {\n",
       "        vertical-align: top;\n",
       "    }\n",
       "\n",
       "    .dataframe thead th {\n",
       "        text-align: right;\n",
       "    }\n",
       "</style>\n",
       "<table border=\"1\" class=\"dataframe\">\n",
       "  <thead>\n",
       "    <tr style=\"text-align: right;\">\n",
       "      <th></th>\n",
       "      <th>rho</th>\n",
       "      <th>bvn</th>\n",
       "      <th>r</th>\n",
       "      <th>sig</th>\n",
       "    </tr>\n",
       "  </thead>\n",
       "  <tbody>\n",
       "    <tr>\n",
       "      <th>0</th>\n",
       "      <td>-0.9</td>\n",
       "      <td>[[45, 13], [49, 12], [31, 34], [32, 34], [21, ...</td>\n",
       "      <td>-0.908789</td>\n",
       "      <td>True</td>\n",
       "    </tr>\n",
       "    <tr>\n",
       "      <th>1</th>\n",
       "      <td>-0.9</td>\n",
       "      <td>[[15, 42], [53, 9], [43, 23], [16, 46], [27, 3...</td>\n",
       "      <td>-0.918758</td>\n",
       "      <td>True</td>\n",
       "    </tr>\n",
       "    <tr>\n",
       "      <th>2</th>\n",
       "      <td>-0.9</td>\n",
       "      <td>[[34, 26], [38, 20], [29, 28], [13, 54], [26, ...</td>\n",
       "      <td>-0.929054</td>\n",
       "      <td>True</td>\n",
       "    </tr>\n",
       "    <tr>\n",
       "      <th>3</th>\n",
       "      <td>-0.9</td>\n",
       "      <td>[[28, 36], [27, 22], [31, 33], [35, 33], [45, ...</td>\n",
       "      <td>-0.842864</td>\n",
       "      <td>True</td>\n",
       "    </tr>\n",
       "    <tr>\n",
       "      <th>4</th>\n",
       "      <td>-0.9</td>\n",
       "      <td>[[34, 23], [26, 45], [38, 19], [33, 27], [23, ...</td>\n",
       "      <td>-0.900848</td>\n",
       "      <td>True</td>\n",
       "    </tr>\n",
       "  </tbody>\n",
       "</table>\n",
       "</div>"
      ],
      "text/plain": [
       "   rho                                                bvn         r   sig\n",
       "0 -0.9  [[45, 13], [49, 12], [31, 34], [32, 34], [21, ... -0.908789  True\n",
       "1 -0.9  [[15, 42], [53, 9], [43, 23], [16, 46], [27, 3... -0.918758  True\n",
       "2 -0.9  [[34, 26], [38, 20], [29, 28], [13, 54], [26, ... -0.929054  True\n",
       "3 -0.9  [[28, 36], [27, 22], [31, 33], [35, 33], [45, ... -0.842864  True\n",
       "4 -0.9  [[34, 23], [26, 45], [38, 19], [33, 27], [23, ... -0.900848  True"
      ]
     },
     "execution_count": 4,
     "metadata": {},
     "output_type": "execute_result"
    }
   ],
   "source": [
    "N = 1000\n",
    "sig_rhos = pd.DataFrame({'rho': np.repeat(np.concatenate((np.linspace(-9, -2, num=8), np.linspace(2, 9, num=8)))/10, N)})\n",
    "apply_sampleBVN_to_rho = list(zip(*sig_rhos['rho'].apply(sampleBVN)))\n",
    "sig_rhos['bvn'] = list(apply_sampleBVN_to_rho[0])\n",
    "sig_rhos['r'] = apply_sampleBVN_to_rho[1]\n",
    "sig_rhos['sig'] = apply_sampleBVN_to_rho[2]\n",
    "print(sig_rhos.shape)\n",
    "sig_rhos.head()"
   ]
  },
  {
   "cell_type": "markdown",
   "metadata": {},
   "source": [
    "Sampling 3K samples for non-significant rhos (-0.1 to 0.1), keeping results in a pandas DataFrame:"
   ]
  },
  {
   "cell_type": "code",
   "execution_count": 5,
   "metadata": {},
   "outputs": [
    {
     "name": "stdout",
     "output_type": "stream",
     "text": [
      "(9000, 4)\n"
     ]
    },
    {
     "data": {
      "text/html": [
       "<div>\n",
       "<style scoped>\n",
       "    .dataframe tbody tr th:only-of-type {\n",
       "        vertical-align: middle;\n",
       "    }\n",
       "\n",
       "    .dataframe tbody tr th {\n",
       "        vertical-align: top;\n",
       "    }\n",
       "\n",
       "    .dataframe thead th {\n",
       "        text-align: right;\n",
       "    }\n",
       "</style>\n",
       "<table border=\"1\" class=\"dataframe\">\n",
       "  <thead>\n",
       "    <tr style=\"text-align: right;\">\n",
       "      <th></th>\n",
       "      <th>rho</th>\n",
       "      <th>bvn</th>\n",
       "      <th>r</th>\n",
       "      <th>sig</th>\n",
       "    </tr>\n",
       "  </thead>\n",
       "  <tbody>\n",
       "    <tr>\n",
       "      <th>0</th>\n",
       "      <td>-0.1</td>\n",
       "      <td>[[18, 8], [27, 22], [39, 34], [33, 28], [33, 3...</td>\n",
       "      <td>0.102275</td>\n",
       "      <td>False</td>\n",
       "    </tr>\n",
       "    <tr>\n",
       "      <th>1</th>\n",
       "      <td>-0.1</td>\n",
       "      <td>[[45, 52], [31, 29], [38, 11], [36, 37], [12, ...</td>\n",
       "      <td>-0.067681</td>\n",
       "      <td>False</td>\n",
       "    </tr>\n",
       "    <tr>\n",
       "      <th>2</th>\n",
       "      <td>-0.1</td>\n",
       "      <td>[[17, 23], [43, 19], [32, 26], [37, 36], [37, ...</td>\n",
       "      <td>-0.204918</td>\n",
       "      <td>False</td>\n",
       "    </tr>\n",
       "    <tr>\n",
       "      <th>3</th>\n",
       "      <td>-0.1</td>\n",
       "      <td>[[35, 36], [20, 23], [48, 21], [35, 30], [21, ...</td>\n",
       "      <td>-0.085569</td>\n",
       "      <td>False</td>\n",
       "    </tr>\n",
       "    <tr>\n",
       "      <th>4</th>\n",
       "      <td>-0.1</td>\n",
       "      <td>[[29, 25], [24, 34], [30, 47], [30, 34], [28, ...</td>\n",
       "      <td>-0.126296</td>\n",
       "      <td>False</td>\n",
       "    </tr>\n",
       "  </tbody>\n",
       "</table>\n",
       "</div>"
      ],
      "text/plain": [
       "   rho                                                bvn         r    sig\n",
       "0 -0.1  [[18, 8], [27, 22], [39, 34], [33, 28], [33, 3...  0.102275  False\n",
       "1 -0.1  [[45, 52], [31, 29], [38, 11], [36, 37], [12, ... -0.067681  False\n",
       "2 -0.1  [[17, 23], [43, 19], [32, 26], [37, 36], [37, ... -0.204918  False\n",
       "3 -0.1  [[35, 36], [20, 23], [48, 21], [35, 30], [21, ... -0.085569  False\n",
       "4 -0.1  [[29, 25], [24, 34], [30, 47], [30, 34], [28, ... -0.126296  False"
      ]
     },
     "execution_count": 5,
     "metadata": {},
     "output_type": "execute_result"
    }
   ],
   "source": [
    "N = 3000\n",
    "non_sig_rhos = pd.DataFrame({'rho': np.repeat(np.linspace(-1, 1, num=3)/10, N)})\n",
    "apply_sampleBVN_to_rho = list(zip(*non_sig_rhos['rho'].apply(sampleBVN)))\n",
    "non_sig_rhos['bvn'] = list(apply_sampleBVN_to_rho[0])\n",
    "non_sig_rhos['r'] = apply_sampleBVN_to_rho[1]\n",
    "non_sig_rhos['sig'] = apply_sampleBVN_to_rho[2]\n",
    "print(non_sig_rhos.shape)\n",
    "non_sig_rhos.head()"
   ]
  },
  {
   "cell_type": "code",
   "execution_count": 6,
   "metadata": {},
   "outputs": [
    {
     "data": {
      "text/plain": [
       "(50, 2)"
      ]
     },
     "execution_count": 6,
     "metadata": {},
     "output_type": "execute_result"
    }
   ],
   "source": [
    "non_sig_rhos.at[0, 'bvn'].shape"
   ]
  },
  {
   "cell_type": "markdown",
   "metadata": {},
   "source": [
    "See how many significant and insignificant p_vals out there:"
   ]
  },
  {
   "cell_type": "code",
   "execution_count": 7,
   "metadata": {},
   "outputs": [
    {
     "data": {
      "text/html": [
       "<div>\n",
       "<style scoped>\n",
       "    .dataframe tbody tr th:only-of-type {\n",
       "        vertical-align: middle;\n",
       "    }\n",
       "\n",
       "    .dataframe tbody tr th {\n",
       "        vertical-align: top;\n",
       "    }\n",
       "\n",
       "    .dataframe thead th {\n",
       "        text-align: right;\n",
       "    }\n",
       "</style>\n",
       "<table border=\"1\" class=\"dataframe\">\n",
       "  <thead>\n",
       "    <tr style=\"text-align: right;\">\n",
       "      <th></th>\n",
       "      <th>rho</th>\n",
       "      <th>bvn</th>\n",
       "      <th>r</th>\n",
       "    </tr>\n",
       "    <tr>\n",
       "      <th>sig</th>\n",
       "      <th></th>\n",
       "      <th></th>\n",
       "      <th></th>\n",
       "    </tr>\n",
       "  </thead>\n",
       "  <tbody>\n",
       "    <tr>\n",
       "      <th>False</th>\n",
       "      <td>10857</td>\n",
       "      <td>10857</td>\n",
       "      <td>10857</td>\n",
       "    </tr>\n",
       "    <tr>\n",
       "      <th>True</th>\n",
       "      <td>14143</td>\n",
       "      <td>14143</td>\n",
       "      <td>14143</td>\n",
       "    </tr>\n",
       "  </tbody>\n",
       "</table>\n",
       "</div>"
      ],
      "text/plain": [
       "         rho    bvn      r\n",
       "sig                       \n",
       "False  10857  10857  10857\n",
       "True   14143  14143  14143"
      ]
     },
     "execution_count": 7,
     "metadata": {},
     "output_type": "execute_result"
    }
   ],
   "source": [
    "pd.concat([sig_rhos, non_sig_rhos]).groupby('sig').count()"
   ]
  },
  {
   "cell_type": "markdown",
   "metadata": {},
   "source": [
    "Sample 10K from each group and form raw data:"
   ]
  },
  {
   "cell_type": "code",
   "execution_count": 8,
   "metadata": {},
   "outputs": [
    {
     "name": "stdout",
     "output_type": "stream",
     "text": [
      "(20000, 4)\n"
     ]
    },
    {
     "data": {
      "text/html": [
       "<div>\n",
       "<style scoped>\n",
       "    .dataframe tbody tr th:only-of-type {\n",
       "        vertical-align: middle;\n",
       "    }\n",
       "\n",
       "    .dataframe tbody tr th {\n",
       "        vertical-align: top;\n",
       "    }\n",
       "\n",
       "    .dataframe thead th {\n",
       "        text-align: right;\n",
       "    }\n",
       "</style>\n",
       "<table border=\"1\" class=\"dataframe\">\n",
       "  <thead>\n",
       "    <tr style=\"text-align: right;\">\n",
       "      <th></th>\n",
       "      <th>rho</th>\n",
       "      <th>bvn</th>\n",
       "      <th>r</th>\n",
       "    </tr>\n",
       "    <tr>\n",
       "      <th>sig</th>\n",
       "      <th></th>\n",
       "      <th></th>\n",
       "      <th></th>\n",
       "    </tr>\n",
       "  </thead>\n",
       "  <tbody>\n",
       "    <tr>\n",
       "      <th>False</th>\n",
       "      <td>10000</td>\n",
       "      <td>10000</td>\n",
       "      <td>10000</td>\n",
       "    </tr>\n",
       "    <tr>\n",
       "      <th>True</th>\n",
       "      <td>10000</td>\n",
       "      <td>10000</td>\n",
       "      <td>10000</td>\n",
       "    </tr>\n",
       "  </tbody>\n",
       "</table>\n",
       "</div>"
      ],
      "text/plain": [
       "         rho    bvn      r\n",
       "sig                       \n",
       "False  10000  10000  10000\n",
       "True   10000  10000  10000"
      ]
     },
     "execution_count": 8,
     "metadata": {},
     "output_type": "execute_result"
    }
   ],
   "source": [
    "data_raw = pd.concat([sig_rhos, non_sig_rhos]).groupby('sig').apply(pd.DataFrame.sample, n=10000).reset_index(drop=True)\n",
    "print(data_raw.shape)\n",
    "data_raw.groupby('sig').count()"
   ]
  },
  {
   "cell_type": "markdown",
   "metadata": {},
   "source": [
    "Define a matrix receiving a `bvn` array and turning it into a plot matrix with zeros everywhere and ones where there is a marker. The matrix is in fact a 4D array which is more suitable for deep learning later on:"
   ]
  },
  {
   "cell_type": "code",
   "execution_count": 9,
   "metadata": {},
   "outputs": [],
   "source": [
    "def plot_mat(bvn):\n",
    "    m = np.zeros((60, 60))\n",
    "    m[bvn[:, 0], bvn[:, 1]] = 1\n",
    "    return m.reshape((1, 60, 60, 1))"
   ]
  },
  {
   "cell_type": "markdown",
   "metadata": {},
   "source": [
    "See that the matrix when reshaped to 2D is equivalent to a scatter plot of the bivariate normal sample:"
   ]
  },
  {
   "cell_type": "code",
   "execution_count": 10,
   "metadata": {},
   "outputs": [
    {
     "data": {
      "text/plain": [
       "(1, 60, 60, 1)"
      ]
     },
     "execution_count": 10,
     "metadata": {},
     "output_type": "execute_result"
    }
   ],
   "source": [
    "res = plot_mat(data_raw.at[0, 'bvn'])\n",
    "res.shape"
   ]
  },
  {
   "cell_type": "code",
   "execution_count": 11,
   "metadata": {},
   "outputs": [
    {
     "data": {
      "image/png": "[encoded data removed]",
      "text/plain": [
       "<Figure size 432x288 with 1 Axes>"
      ]
     },
     "metadata": {
      "needs_background": "light"
     },
     "output_type": "display_data"
    }
   ],
   "source": [
    "mat2d = rotate(res[0, :, :, 0], 90)\n",
    "plt.imshow(mat2d, origin='upper')\n",
    "plt.show()"
   ]
  },
  {
   "cell_type": "code",
   "execution_count": 12,
   "metadata": {},
   "outputs": [
    {
     "data": {
      "image/png": "[encoded data removed]",
      "text/plain": [
       "<Figure size 432x288 with 1 Axes>"
      ]
     },
     "metadata": {
      "needs_background": "light"
     },
     "output_type": "display_data"
    }
   ],
   "source": [
    "plt.axes().set_aspect('equal')\n",
    "plt.scatter(data_raw.at[0, 'bvn'][:, 0], data_raw.at[0, 'bvn'][:, 1])\n",
    "plt.show()"
   ]
  },
  {
   "cell_type": "markdown",
   "metadata": {},
   "source": [
    "Unite 10K x 2 samples into a giant 20K x 60 x 60 x 1 (color channel) x matrix:"
   ]
  },
  {
   "cell_type": "code",
   "execution_count": 13,
   "metadata": {},
   "outputs": [
    {
     "data": {
      "text/plain": [
       "(20000, 60, 60, 1)"
      ]
     },
     "execution_count": 13,
     "metadata": {},
     "output_type": "execute_result"
    }
   ],
   "source": [
    "x = np.concatenate(data_raw['bvn'].apply(plot_mat))\n",
    "x.shape"
   ]
  },
  {
   "cell_type": "markdown",
   "metadata": {},
   "source": [
    "Split to train and test:"
   ]
  },
  {
   "cell_type": "code",
   "execution_count": 14,
   "metadata": {},
   "outputs": [
    {
     "name": "stdout",
     "output_type": "stream",
     "text": [
      "(10000, 60, 60, 1)\n",
      "(10000, 60, 60, 1)\n"
     ]
    }
   ],
   "source": [
    "train_samp = np.random.choice(x.shape[0], 10000, replace=False)\n",
    "x_train = x[train_samp, :, :, :]\n",
    "x_test = x[-train_samp, :, :, :]\n",
    "print(x_train.shape)\n",
    "print(x_test.shape)"
   ]
  },
  {
   "cell_type": "markdown",
   "metadata": {},
   "source": [
    "### Classification (predicting sig)"
   ]
  },
  {
   "cell_type": "markdown",
   "metadata": {},
   "source": [
    "Create binary (0: significat, 1: insignificant) y variable:"
   ]
  },
  {
   "cell_type": "code",
   "execution_count": 15,
   "metadata": {},
   "outputs": [],
   "source": [
    "y_classification = np.repeat([0, 1], 10000)\n",
    "\n",
    "y_train_cl = y_classification[train_samp]\n",
    "y_test_cl = y_classification[-train_samp]"
   ]
  },
  {
   "cell_type": "markdown",
   "metadata": {},
   "source": [
    "Now, for Deep Learning with Keras:"
   ]
  },
  {
   "cell_type": "code",
   "execution_count": 16,
   "metadata": {},
   "outputs": [
    {
     "name": "stderr",
     "output_type": "stream",
     "text": [
      "WARNING: Logging before flag parsing goes to stderr.\n",
      "W0730 13:22:15.664162 140433482188608 deprecation_wrapper.py:119] From /home/gioras/.local/lib/python3.6/site-packages/keras/backend/tensorflow_backend.py:74: The name tf.get_default_graph is deprecated. Please use tf.compat.v1.get_default_graph instead.\n",
      "\n",
      "W0730 13:22:15.699960 140433482188608 deprecation_wrapper.py:119] From /home/gioras/.local/lib/python3.6/site-packages/keras/backend/tensorflow_backend.py:517: The name tf.placeholder is deprecated. Please use tf.compat.v1.placeholder instead.\n",
      "\n",
      "W0730 13:22:15.702299 140433482188608 deprecation_wrapper.py:119] From /home/gioras/.local/lib/python3.6/site-packages/keras/backend/tensorflow_backend.py:4138: The name tf.random_uniform is deprecated. Please use tf.random.uniform instead.\n",
      "\n",
      "W0730 13:22:15.729820 140433482188608 deprecation_wrapper.py:119] From /home/gioras/.local/lib/python3.6/site-packages/keras/backend/tensorflow_backend.py:3976: The name tf.nn.max_pool is deprecated. Please use tf.nn.max_pool2d instead.\n",
      "\n",
      "W0730 13:22:15.732908 140433482188608 deprecation_wrapper.py:119] From /home/gioras/.local/lib/python3.6/site-packages/keras/backend/tensorflow_backend.py:133: The name tf.placeholder_with_default is deprecated. Please use tf.compat.v1.placeholder_with_default instead.\n",
      "\n",
      "W0730 13:22:15.740843 140433482188608 deprecation.py:506] From /home/gioras/.local/lib/python3.6/site-packages/keras/backend/tensorflow_backend.py:3445: calling dropout (from tensorflow.python.ops.nn_ops) with keep_prob is deprecated and will be removed in a future version.\n",
      "Instructions for updating:\n",
      "Please use `rate` instead of `keep_prob`. Rate should be set to `rate = 1 - keep_prob`.\n",
      "W0730 13:22:15.863314 140433482188608 deprecation_wrapper.py:119] From /home/gioras/.local/lib/python3.6/site-packages/keras/optimizers.py:790: The name tf.train.Optimizer is deprecated. Please use tf.compat.v1.train.Optimizer instead.\n",
      "\n",
      "W0730 13:22:15.867888 140433482188608 deprecation_wrapper.py:119] From /home/gioras/.local/lib/python3.6/site-packages/keras/backend/tensorflow_backend.py:3376: The name tf.log is deprecated. Please use tf.math.log instead.\n",
      "\n",
      "W0730 13:22:15.871999 140433482188608 deprecation.py:323] From /home/gioras/.local/lib/python3.6/site-packages/tensorflow/python/ops/nn_impl.py:180: add_dispatch_support.<locals>.wrapper (from tensorflow.python.ops.array_ops) is deprecated and will be removed in a future version.\n",
      "Instructions for updating:\n",
      "Use tf.where in 2.0, which has the same broadcast rule as np.where\n"
     ]
    },
    {
     "name": "stdout",
     "output_type": "stream",
     "text": [
      "Train on 8000 samples, validate on 2000 samples\n",
      "Epoch 1/20\n",
      "8000/8000 [==============================] - 61s 8ms/step - loss: 0.5150 - acc: 0.7354 - val_loss: 0.2791 - val_acc: 0.8850\n",
      "Epoch 2/20\n",
      "8000/8000 [==============================] - 63s 8ms/step - loss: 0.3160 - acc: 0.8708 - val_loss: 0.2924 - val_acc: 0.8710\n",
      "Epoch 3/20\n",
      "8000/8000 [==============================] - 64s 8ms/step - loss: 0.2290 - acc: 0.9123 - val_loss: 0.2723 - val_acc: 0.8905\n"
     ]
    },
    {
     "data": {
      "text/plain": [
       "<keras.callbacks.History at 0x7fb8c4d9a5c0>"
      ]
     },
     "execution_count": 16,
     "metadata": {},
     "output_type": "execute_result"
    }
   ],
   "source": [
    "batch_size = 128\n",
    "epochs = 20\n",
    "input_shape = (60, 60, 1)\n",
    "\n",
    "model_cl = Sequential()\n",
    "model_cl.add(Conv2D(32, kernel_size=(3, 3),\n",
    "                 activation='relu',\n",
    "                 input_shape=input_shape))\n",
    "model_cl.add(Conv2D(64, (3, 3), activation='relu'))\n",
    "model_cl.add(MaxPooling2D(pool_size=(2, 2)))\n",
    "model_cl.add(Dropout(0.25))\n",
    "model_cl.add(Flatten())\n",
    "model_cl.add(Dense(128, activation='relu'))\n",
    "model_cl.add(Dropout(0.5))\n",
    "model_cl.add(Dense(1, activation='sigmoid'))\n",
    "\n",
    "model_cl.compile(loss=keras.losses.binary_crossentropy,\n",
    "              optimizer=keras.optimizers.Adadelta(),\n",
    "              metrics=['accuracy'])\n",
    "\n",
    "model_cl.fit(x_train, y_train_cl,\n",
    "          batch_size=batch_size,\n",
    "          epochs=epochs,\n",
    "          verbose=1,\n",
    "          validation_split=0.2,\n",
    "          callbacks=[EarlyStopping(monitor='val_loss', min_delta=0.01, patience=2)])"
   ]
  },
  {
   "cell_type": "code",
   "execution_count": 17,
   "metadata": {},
   "outputs": [
    {
     "name": "stdout",
     "output_type": "stream",
     "text": [
      "Test loss: 0.2520876467466354\n",
      "Test accuracy: 0.8977\n"
     ]
    }
   ],
   "source": [
    "score = model_cl.evaluate(x_test, y_test_cl, verbose=0)\n",
    "print('Test loss:', score[0])\n",
    "print('Test accuracy:', score[1])"
   ]
  },
  {
   "cell_type": "markdown",
   "metadata": {},
   "source": [
    "### Regression (predicting r)"
   ]
  },
  {
   "cell_type": "markdown",
   "metadata": {},
   "source": [
    "y is now the pearson correlation itself:"
   ]
  },
  {
   "cell_type": "code",
   "execution_count": 18,
   "metadata": {},
   "outputs": [],
   "source": [
    "y_regression = data_raw['r'].values\n",
    "\n",
    "y_train_reg = y_regression[train_samp]\n",
    "y_test_reg = y_regression[-train_samp]"
   ]
  },
  {
   "cell_type": "code",
   "execution_count": 19,
   "metadata": {},
   "outputs": [
    {
     "name": "stdout",
     "output_type": "stream",
     "text": [
      "Train on 8000 samples, validate on 2000 samples\n",
      "Epoch 1/20\n",
      "8000/8000 [==============================] - 70s 9ms/step - loss: 0.0677 - mean_squared_error: 0.0677 - val_loss: 0.0090 - val_mean_squared_error: 0.0090\n",
      "Epoch 2/20\n",
      "8000/8000 [==============================] - 68s 8ms/step - loss: 0.0247 - mean_squared_error: 0.0247 - val_loss: 0.0113 - val_mean_squared_error: 0.0113\n",
      "Epoch 3/20\n",
      "8000/8000 [==============================] - 69s 9ms/step - loss: 0.0228 - mean_squared_error: 0.0228 - val_loss: 0.0052 - val_mean_squared_error: 0.0052\n",
      "Epoch 4/20\n",
      "8000/8000 [==============================] - 72s 9ms/step - loss: 0.0185 - mean_squared_error: 0.0185 - val_loss: 0.0067 - val_mean_squared_error: 0.0067\n",
      "Epoch 5/20\n",
      "8000/8000 [==============================] - 67s 8ms/step - loss: 0.0192 - mean_squared_error: 0.0192 - val_loss: 0.0056 - val_mean_squared_error: 0.0056\n"
     ]
    },
    {
     "data": {
      "text/plain": [
       "<keras.callbacks.History at 0x7fb8a1a07240>"
      ]
     },
     "execution_count": 19,
     "metadata": {},
     "output_type": "execute_result"
    }
   ],
   "source": [
    "model_reg = Sequential()\n",
    "model_reg.add(Conv2D(32, kernel_size=(3, 3),\n",
    "                 activation='relu',\n",
    "                 input_shape=input_shape))\n",
    "model_reg.add(Conv2D(64, (3, 3), activation='relu'))\n",
    "model_reg.add(MaxPooling2D(pool_size=(2, 2)))\n",
    "model_reg.add(Dropout(0.25))\n",
    "model_reg.add(Flatten())\n",
    "model_reg.add(Dense(128, activation='relu'))\n",
    "model_reg.add(Dropout(0.5))\n",
    "model_reg.add(Dense(1))\n",
    "\n",
    "model_reg.compile(loss=keras.losses.mean_squared_error,\n",
    "              optimizer=keras.optimizers.Adadelta(),\n",
    "              metrics=['mean_squared_error'])\n",
    "\n",
    "model_reg.fit(x_train, y_train_reg,\n",
    "          batch_size=batch_size,\n",
    "          epochs=epochs,\n",
    "          verbose=1,\n",
    "          validation_split=0.2,\n",
    "          callbacks=[EarlyStopping(monitor='val_loss', min_delta=0.001, patience=2)])"
   ]
  },
  {
   "cell_type": "code",
   "execution_count": 20,
   "metadata": {},
   "outputs": [
    {
     "name": "stdout",
     "output_type": "stream",
     "text": [
      "Test MSE: 0.00557349701449275\n"
     ]
    }
   ],
   "source": [
    "score = model_reg.evaluate(x_test, y_test_reg, verbose=0)\n",
    "print('Test MSE:', score[1])"
   ]
  },
  {
   "cell_type": "markdown",
   "metadata": {},
   "source": [
    "MSE doesn't tell us much, see predicted r (after capping between -1 and 1) vs. true r:"
   ]
  },
  {
   "cell_type": "code",
   "execution_count": 26,
   "metadata": {},
   "outputs": [
    {
     "data": {
      "image/png": "[encoded data removed]",
      "text/plain": [
       "<Figure size 432x288 with 1 Axes>"
      ]
     },
     "metadata": {
      "needs_background": "light"
     },
     "output_type": "display_data"
    }
   ],
   "source": [
    "y_pred = model_reg.predict(x_test)[:, 0]\n",
    "y_pred[y_pred < -1] = -1\n",
    "y_pred[y_pred > 1] = 1\n",
    "g = sns.scatterplot(y_test_reg, y_pred)"
   ]
  },
  {
   "cell_type": "markdown",
   "metadata": {},
   "source": [
    "### Choosing from a Lineup"
   ]
  },
  {
   "cell_type": "markdown",
   "metadata": {},
   "source": [
    "These functions are from the lineup_examples notebook. The `scale0to59` function will map any continuous coumn of data into the 0 to 59 range so we can can two columns scatter plot into a plot matrix the model can consume:"
   ]
  },
  {
   "cell_type": "code",
   "execution_count": 35,
   "metadata": {},
   "outputs": [],
   "source": [
    "def scale0to59(x):\n",
    "    return np.floor(59 * np.round((x - np.min(x)) / (max(x) - min(x)), 2)).astype(int)\n",
    "\n",
    "def permute_col(df, colname, sample_num=0, permute=True):\n",
    "    df2 = df.copy()\n",
    "    df2['.sample'] = sample_num\n",
    "    if permute:\n",
    "        df2[colname] = np.random.permutation(df2[colname])\n",
    "    return df2\n",
    "\n",
    "def lineup(df, colname, n=20):\n",
    "    permuted_dfs = [permute_col(df, colname, i) for i in range(n)]\n",
    "    orig_loc = np.random.choice(n)\n",
    "    orig_df = permute_col(df, colname, orig_loc, permute=False)\n",
    "    permuted_dfs[orig_loc] = orig_df\n",
    "    return pd.concat(permuted_dfs), orig_loc"
   ]
  },
  {
   "cell_type": "code",
   "execution_count": 45,
   "metadata": {},
   "outputs": [
    {
     "data": {
      "image/png": "[encoded data removed]",
      "text/plain": [
       "<Figure size 648x518.4 with 20 Axes>"
      ]
     },
     "metadata": {
      "needs_background": "light"
     },
     "output_type": "display_data"
    }
   ],
   "source": [
    "mtcars = pd.read_csv('data/mtcars.csv')\n",
    "mtcars_0to59 = mtcars.transform(scale0to59)\n",
    "\n",
    "lineup_mtcars, orig_loc = lineup(mtcars_0to59, 'hp')\n",
    "\n",
    "g = sns.FacetGrid(lineup_mtcars, col='.sample', col_wrap=5, height=1.8)\n",
    "g = g.map(plt.scatter, 'disp', 'hp', edgecolor='w').set_titles('{col_name}')\n",
    "g.fig.suptitle('Is there a relation between a car\\'s Engine Displacement and its Horse Power? (n = 32)')\n",
    "plt.subplots_adjust(top=0.9)"
   ]
  },
  {
   "cell_type": "markdown",
   "metadata": {},
   "source": [
    "The original model is in plot..."
   ]
  },
  {
   "cell_type": "code",
   "execution_count": 46,
   "metadata": {},
   "outputs": [
    {
     "data": {
      "text/plain": [
       "17"
      ]
     },
     "execution_count": 46,
     "metadata": {},
     "output_type": "execute_result"
    }
   ],
   "source": [
    "orig_loc"
   ]
  },
  {
   "cell_type": "markdown",
   "metadata": {},
   "source": [
    "What will the `model_cl` predict as the plot with maximum score of being significant?"
   ]
  },
  {
   "cell_type": "code",
   "execution_count": 52,
   "metadata": {},
   "outputs": [
    {
     "name": "stdout",
     "output_type": "stream",
     "text": [
      "17\n"
     ]
    }
   ],
   "source": [
    "def convert_data_to_plot_matrix(i):\n",
    "    return plot_mat(lineup_mtcars[lineup_mtcars['.sample'] == i][['disp', 'hp']].values.astype(int))\n",
    "\n",
    "x_mtcars = np.concatenate([convert_data_to_plot_matrix(i) for i in range(20)])\n",
    "\n",
    "y_pred_cl_mtcars = model_cl.predict(x_mtcars)\n",
    "print(y_pred_cl_mtcars.argmax())"
   ]
  },
  {
   "cell_type": "markdown",
   "metadata": {},
   "source": [
    "What will the `model_reg` predict as the plot with maximum r?"
   ]
  },
  {
   "cell_type": "code",
   "execution_count": 53,
   "metadata": {},
   "outputs": [
    {
     "name": "stdout",
     "output_type": "stream",
     "text": [
      "17\n"
     ]
    }
   ],
   "source": [
    "y_pred_reg_mtcars = model_reg.predict(x_mtcars)\n",
    "print(y_pred_reg_mtcars.argmax())"
   ]
  },
  {
   "cell_type": "markdown",
   "metadata": {},
   "source": [
    "### Adversary Example - non-linear relation"
   ]
  }
 ],
 "metadata": {
  "kernelspec": {
   "display_name": "Python 3",
   "language": "python",
   "name": "python3"
  },
  "language_info": {
   "codemirror_mode": {
    "name": "ipython",
    "version": 3
   },
   "file_extension": ".py",
   "mimetype": "text/x-python",
   "name": "python",
   "nbconvert_exporter": "python",
   "pygments_lexer": "ipython3",
   "version": "3.6.7"
  }
 },
 "nbformat": 4,
 "nbformat_minor": 2
}
