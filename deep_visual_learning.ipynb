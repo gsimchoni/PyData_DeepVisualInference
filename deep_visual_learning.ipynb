{
 "cells": [
  {
   "cell_type": "markdown",
   "metadata": {},
   "source": [
    "Note my python version:"
   ]
  },
  {
   "cell_type": "code",
   "execution_count": 1,
   "metadata": {},
   "outputs": [
    {
     "name": "stdout",
     "output_type": "stream",
     "text": [
      "3.6.7 (default, Oct 22 2018, 11:32:17) \n",
      "[GCC 8.2.0]\n"
     ]
    }
   ],
   "source": [
    "import sys\n",
    "print(sys.version)"
   ]
  },
  {
   "cell_type": "markdown",
   "metadata": {},
   "source": [
    "Packages you'll need:"
   ]
  },
  {
   "cell_type": "code",
   "execution_count": 2,
   "metadata": {},
   "outputs": [],
   "source": [
    "import pandas as pd\n",
    "import numpy as np\n",
    "import matplotlib.pyplot as plt\n",
    "import seaborn as sns\n",
    "import scipy.stats as st"
   ]
  },
  {
   "cell_type": "markdown",
   "metadata": {},
   "source": [
    "# Scatter plot example"
   ]
  },
  {
   "cell_type": "code",
   "execution_count": 3,
   "metadata": {},
   "outputs": [],
   "source": [
    "def sampleBVN(rho, n=50):\n",
    "    mean = [0, 0]\n",
    "    cov = [[1, rho], [rho, 1]]\n",
    "    bvn = np.random.multivariate_normal(mean, cov, n)\n",
    "    bvn = np.round(bvn, 1) * 10 + 30\n",
    "    bvn[bvn < 0] = 0\n",
    "    bvn[bvn > 59] = 59\n",
    "    r, p_val = st.pearsonr(bvn[:, 0], bvn[:, 1])\n",
    "    sig = p_val < 0.05\n",
    "    return bvn, r, sig"
   ]
  },
  {
   "cell_type": "code",
   "execution_count": 4,
   "metadata": {},
   "outputs": [
    {
     "name": "stdout",
     "output_type": "stream",
     "text": [
      "(16000, 4)\n"
     ]
    },
    {
     "data": {
      "text/html": [
       "<div>\n",
       "<style scoped>\n",
       "    .dataframe tbody tr th:only-of-type {\n",
       "        vertical-align: middle;\n",
       "    }\n",
       "\n",
       "    .dataframe tbody tr th {\n",
       "        vertical-align: top;\n",
       "    }\n",
       "\n",
       "    .dataframe thead th {\n",
       "        text-align: right;\n",
       "    }\n",
       "</style>\n",
       "<table border=\"1\" class=\"dataframe\">\n",
       "  <thead>\n",
       "    <tr style=\"text-align: right;\">\n",
       "      <th></th>\n",
       "      <th>rho</th>\n",
       "      <th>bvn</th>\n",
       "      <th>r</th>\n",
       "      <th>sig</th>\n",
       "    </tr>\n",
       "  </thead>\n",
       "  <tbody>\n",
       "    <tr>\n",
       "      <th>0</th>\n",
       "      <td>-0.9</td>\n",
       "      <td>[[28.0, 32.0], [43.0, 15.0], [31.0, 32.0], [34...</td>\n",
       "      <td>-0.899748</td>\n",
       "      <td>True</td>\n",
       "    </tr>\n",
       "    <tr>\n",
       "      <th>1</th>\n",
       "      <td>-0.9</td>\n",
       "      <td>[[41.0, 18.0], [40.0, 15.0], [33.0, 33.0], [21...</td>\n",
       "      <td>-0.939116</td>\n",
       "      <td>True</td>\n",
       "    </tr>\n",
       "    <tr>\n",
       "      <th>2</th>\n",
       "      <td>-0.9</td>\n",
       "      <td>[[23.0, 41.0], [24.0, 31.0], [30.0, 31.0], [29...</td>\n",
       "      <td>-0.857304</td>\n",
       "      <td>True</td>\n",
       "    </tr>\n",
       "    <tr>\n",
       "      <th>3</th>\n",
       "      <td>-0.9</td>\n",
       "      <td>[[19.0, 35.0], [29.0, 31.0], [20.0, 45.0], [7....</td>\n",
       "      <td>-0.900479</td>\n",
       "      <td>True</td>\n",
       "    </tr>\n",
       "    <tr>\n",
       "      <th>4</th>\n",
       "      <td>-0.9</td>\n",
       "      <td>[[42.0, 13.0], [44.0, 11.0], [28.0, 25.0], [18...</td>\n",
       "      <td>-0.866328</td>\n",
       "      <td>True</td>\n",
       "    </tr>\n",
       "  </tbody>\n",
       "</table>\n",
       "</div>"
      ],
      "text/plain": [
       "   rho                                                bvn         r   sig\n",
       "0 -0.9  [[28.0, 32.0], [43.0, 15.0], [31.0, 32.0], [34... -0.899748  True\n",
       "1 -0.9  [[41.0, 18.0], [40.0, 15.0], [33.0, 33.0], [21... -0.939116  True\n",
       "2 -0.9  [[23.0, 41.0], [24.0, 31.0], [30.0, 31.0], [29... -0.857304  True\n",
       "3 -0.9  [[19.0, 35.0], [29.0, 31.0], [20.0, 45.0], [7.... -0.900479  True\n",
       "4 -0.9  [[42.0, 13.0], [44.0, 11.0], [28.0, 25.0], [18... -0.866328  True"
      ]
     },
     "execution_count": 4,
     "metadata": {},
     "output_type": "execute_result"
    }
   ],
   "source": [
    "N = 1000\n",
    "sig_rhos = pd.DataFrame({'rho': np.repeat(np.concatenate((np.linspace(-9, -2, num=8), np.linspace(2, 9, num=8)))/10, N)})\n",
    "apply_sampleBVN_to_rho = list(zip(*sig_rhos['rho'].apply(sampleBVN)))\n",
    "sig_rhos['bvn'] = list(apply_sampleBVN_to_rho[0])\n",
    "sig_rhos['r'] = apply_sampleBVN_to_rho[1]\n",
    "sig_rhos['sig'] = apply_sampleBVN_to_rho[2]\n",
    "print(sig_rhos.shape)\n",
    "sig_rhos.head()"
   ]
  }
 ],
 "metadata": {
  "kernelspec": {
   "display_name": "Python 3",
   "language": "python",
   "name": "python3"
  },
  "language_info": {
   "codemirror_mode": {
    "name": "ipython",
    "version": 3
   },
   "file_extension": ".py",
   "mimetype": "text/x-python",
   "name": "python",
   "nbconvert_exporter": "python",
   "pygments_lexer": "ipython3",
   "version": "3.6.7"
  }
 },
 "nbformat": 4,
 "nbformat_minor": 2
}
