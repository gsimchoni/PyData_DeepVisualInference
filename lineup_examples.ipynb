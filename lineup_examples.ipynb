{
 "cells": [
  {
   "cell_type": "markdown",
   "metadata": {},
   "source": [
    "Note my python version:"
   ]
  },
  {
   "cell_type": "code",
   "execution_count": 7,
   "metadata": {},
   "outputs": [
    {
     "name": "stdout",
     "output_type": "stream",
     "text": [
      "3.6.5 (v3.6.5:f59c0932b4, Mar 28 2018, 16:07:46) [MSC v.1900 32 bit (Intel)]\n"
     ]
    }
   ],
   "source": [
    "import sys\n",
    "print(sys.version)"
   ]
  },
  {
   "cell_type": "markdown",
   "metadata": {},
   "source": [
    "Packages you'll need:"
   ]
  },
  {
   "cell_type": "code",
   "execution_count": 180,
   "metadata": {},
   "outputs": [],
   "source": [
    "import pandas as pd\n",
    "import numpy as np\n",
    "import matplotlib.pyplot as plt\n",
    "import seaborn as sns\n",
    "from statsmodels.graphics.mosaicplot import mosaic"
   ]
  },
  {
   "cell_type": "markdown",
   "metadata": {},
   "source": [
    "# Scatter plot example (mtcars dataset)"
   ]
  },
  {
   "cell_type": "markdown",
   "metadata": {},
   "source": [
    "Read mtcars dataset:"
   ]
  },
  {
   "cell_type": "code",
   "execution_count": 36,
   "metadata": {},
   "outputs": [],
   "source": [
    "mtcars = pd.read_csv('data/mtcars.csv')"
   ]
  },
  {
   "cell_type": "code",
   "execution_count": 8,
   "metadata": {},
   "outputs": [
    {
     "data": {
      "text/html": [
       "<div>\n",
       "<style scoped>\n",
       "    .dataframe tbody tr th:only-of-type {\n",
       "        vertical-align: middle;\n",
       "    }\n",
       "\n",
       "    .dataframe tbody tr th {\n",
       "        vertical-align: top;\n",
       "    }\n",
       "\n",
       "    .dataframe thead th {\n",
       "        text-align: right;\n",
       "    }\n",
       "</style>\n",
       "<table border=\"1\" class=\"dataframe\">\n",
       "  <thead>\n",
       "    <tr style=\"text-align: right;\">\n",
       "      <th></th>\n",
       "      <th>mpg</th>\n",
       "      <th>cyl</th>\n",
       "      <th>disp</th>\n",
       "      <th>hp</th>\n",
       "      <th>drat</th>\n",
       "      <th>wt</th>\n",
       "      <th>qsec</th>\n",
       "      <th>vs</th>\n",
       "      <th>am</th>\n",
       "      <th>gear</th>\n",
       "      <th>carb</th>\n",
       "    </tr>\n",
       "  </thead>\n",
       "  <tbody>\n",
       "    <tr>\n",
       "      <th>0</th>\n",
       "      <td>21.0</td>\n",
       "      <td>6</td>\n",
       "      <td>160.0</td>\n",
       "      <td>110</td>\n",
       "      <td>3.90</td>\n",
       "      <td>2.620</td>\n",
       "      <td>16.46</td>\n",
       "      <td>0</td>\n",
       "      <td>1</td>\n",
       "      <td>4</td>\n",
       "      <td>4</td>\n",
       "    </tr>\n",
       "    <tr>\n",
       "      <th>1</th>\n",
       "      <td>21.0</td>\n",
       "      <td>6</td>\n",
       "      <td>160.0</td>\n",
       "      <td>110</td>\n",
       "      <td>3.90</td>\n",
       "      <td>2.875</td>\n",
       "      <td>17.02</td>\n",
       "      <td>0</td>\n",
       "      <td>1</td>\n",
       "      <td>4</td>\n",
       "      <td>4</td>\n",
       "    </tr>\n",
       "    <tr>\n",
       "      <th>2</th>\n",
       "      <td>22.8</td>\n",
       "      <td>4</td>\n",
       "      <td>108.0</td>\n",
       "      <td>93</td>\n",
       "      <td>3.85</td>\n",
       "      <td>2.320</td>\n",
       "      <td>18.61</td>\n",
       "      <td>1</td>\n",
       "      <td>1</td>\n",
       "      <td>4</td>\n",
       "      <td>1</td>\n",
       "    </tr>\n",
       "    <tr>\n",
       "      <th>3</th>\n",
       "      <td>21.4</td>\n",
       "      <td>6</td>\n",
       "      <td>258.0</td>\n",
       "      <td>110</td>\n",
       "      <td>3.08</td>\n",
       "      <td>3.215</td>\n",
       "      <td>19.44</td>\n",
       "      <td>1</td>\n",
       "      <td>0</td>\n",
       "      <td>3</td>\n",
       "      <td>1</td>\n",
       "    </tr>\n",
       "    <tr>\n",
       "      <th>4</th>\n",
       "      <td>18.7</td>\n",
       "      <td>8</td>\n",
       "      <td>360.0</td>\n",
       "      <td>175</td>\n",
       "      <td>3.15</td>\n",
       "      <td>3.440</td>\n",
       "      <td>17.02</td>\n",
       "      <td>0</td>\n",
       "      <td>0</td>\n",
       "      <td>3</td>\n",
       "      <td>2</td>\n",
       "    </tr>\n",
       "  </tbody>\n",
       "</table>\n",
       "</div>"
      ],
      "text/plain": [
       "    mpg  cyl   disp   hp  drat     wt   qsec  vs  am  gear  carb\n",
       "0  21.0    6  160.0  110  3.90  2.620  16.46   0   1     4     4\n",
       "1  21.0    6  160.0  110  3.90  2.875  17.02   0   1     4     4\n",
       "2  22.8    4  108.0   93  3.85  2.320  18.61   1   1     4     1\n",
       "3  21.4    6  258.0  110  3.08  3.215  19.44   1   0     3     1\n",
       "4  18.7    8  360.0  175  3.15  3.440  17.02   0   0     3     2"
      ]
     },
     "execution_count": 8,
     "metadata": {},
     "output_type": "execute_result"
    }
   ],
   "source": [
    "mtcars.head()"
   ]
  },
  {
   "cell_type": "markdown",
   "metadata": {},
   "source": [
    "Function to permute a specific column of the dataset:"
   ]
  },
  {
   "cell_type": "code",
   "execution_count": 153,
   "metadata": {},
   "outputs": [],
   "source": [
    "def permute_col(df, colname, sample_num=0, permute=True):\n",
    "    df2 = df.copy()\n",
    "    df2['.sample'] = sample_num\n",
    "    if permute:\n",
    "        df2[colname] = np.random.permutation(df2[colname])\n",
    "    return df2"
   ]
  },
  {
   "cell_type": "code",
   "execution_count": 154,
   "metadata": {},
   "outputs": [
    {
     "data": {
      "text/html": [
       "<div>\n",
       "<style scoped>\n",
       "    .dataframe tbody tr th:only-of-type {\n",
       "        vertical-align: middle;\n",
       "    }\n",
       "\n",
       "    .dataframe tbody tr th {\n",
       "        vertical-align: top;\n",
       "    }\n",
       "\n",
       "    .dataframe thead th {\n",
       "        text-align: right;\n",
       "    }\n",
       "</style>\n",
       "<table border=\"1\" class=\"dataframe\">\n",
       "  <thead>\n",
       "    <tr style=\"text-align: right;\">\n",
       "      <th></th>\n",
       "      <th>mpg</th>\n",
       "      <th>cyl</th>\n",
       "      <th>disp</th>\n",
       "      <th>hp</th>\n",
       "      <th>drat</th>\n",
       "      <th>wt</th>\n",
       "      <th>qsec</th>\n",
       "      <th>vs</th>\n",
       "      <th>am</th>\n",
       "      <th>gear</th>\n",
       "      <th>carb</th>\n",
       "      <th>.sample</th>\n",
       "    </tr>\n",
       "  </thead>\n",
       "  <tbody>\n",
       "    <tr>\n",
       "      <th>0</th>\n",
       "      <td>21.0</td>\n",
       "      <td>6</td>\n",
       "      <td>160.0</td>\n",
       "      <td>150</td>\n",
       "      <td>3.90</td>\n",
       "      <td>2.620</td>\n",
       "      <td>16.46</td>\n",
       "      <td>0</td>\n",
       "      <td>1</td>\n",
       "      <td>4</td>\n",
       "      <td>4</td>\n",
       "      <td>0</td>\n",
       "    </tr>\n",
       "    <tr>\n",
       "      <th>1</th>\n",
       "      <td>21.0</td>\n",
       "      <td>6</td>\n",
       "      <td>160.0</td>\n",
       "      <td>150</td>\n",
       "      <td>3.90</td>\n",
       "      <td>2.875</td>\n",
       "      <td>17.02</td>\n",
       "      <td>0</td>\n",
       "      <td>1</td>\n",
       "      <td>4</td>\n",
       "      <td>4</td>\n",
       "      <td>0</td>\n",
       "    </tr>\n",
       "    <tr>\n",
       "      <th>2</th>\n",
       "      <td>22.8</td>\n",
       "      <td>4</td>\n",
       "      <td>108.0</td>\n",
       "      <td>180</td>\n",
       "      <td>3.85</td>\n",
       "      <td>2.320</td>\n",
       "      <td>18.61</td>\n",
       "      <td>1</td>\n",
       "      <td>1</td>\n",
       "      <td>4</td>\n",
       "      <td>1</td>\n",
       "      <td>0</td>\n",
       "    </tr>\n",
       "    <tr>\n",
       "      <th>3</th>\n",
       "      <td>21.4</td>\n",
       "      <td>6</td>\n",
       "      <td>258.0</td>\n",
       "      <td>175</td>\n",
       "      <td>3.08</td>\n",
       "      <td>3.215</td>\n",
       "      <td>19.44</td>\n",
       "      <td>1</td>\n",
       "      <td>0</td>\n",
       "      <td>3</td>\n",
       "      <td>1</td>\n",
       "      <td>0</td>\n",
       "    </tr>\n",
       "    <tr>\n",
       "      <th>4</th>\n",
       "      <td>18.7</td>\n",
       "      <td>8</td>\n",
       "      <td>360.0</td>\n",
       "      <td>264</td>\n",
       "      <td>3.15</td>\n",
       "      <td>3.440</td>\n",
       "      <td>17.02</td>\n",
       "      <td>0</td>\n",
       "      <td>0</td>\n",
       "      <td>3</td>\n",
       "      <td>2</td>\n",
       "      <td>0</td>\n",
       "    </tr>\n",
       "  </tbody>\n",
       "</table>\n",
       "</div>"
      ],
      "text/plain": [
       "    mpg  cyl   disp   hp  drat     wt   qsec  vs  am  gear  carb  .sample\n",
       "0  21.0    6  160.0  150  3.90  2.620  16.46   0   1     4     4        0\n",
       "1  21.0    6  160.0  150  3.90  2.875  17.02   0   1     4     4        0\n",
       "2  22.8    4  108.0  180  3.85  2.320  18.61   1   1     4     1        0\n",
       "3  21.4    6  258.0  175  3.08  3.215  19.44   1   0     3     1        0\n",
       "4  18.7    8  360.0  264  3.15  3.440  17.02   0   0     3     2        0"
      ]
     },
     "execution_count": 154,
     "metadata": {},
     "output_type": "execute_result"
    }
   ],
   "source": [
    "permute_col(mtcars, 'hp').head()"
   ]
  },
  {
   "cell_type": "markdown",
   "metadata": {},
   "source": [
    "Function to create a lineup dataset, i.e. the dataset replicated n times, each with a specific column permuted:"
   ]
  },
  {
   "cell_type": "code",
   "execution_count": 182,
   "metadata": {},
   "outputs": [],
   "source": [
    "def lineup(df, colname, n=20):\n",
    "    permuted_dfs = [permute_col(df, colname, i) for i in range(n)]\n",
    "    orig_loc = np.random.choice(n)\n",
    "    orig_df = permute_col(df, colname, orig_loc, permute=False)\n",
    "    permuted_dfs[orig_loc] = orig_df\n",
    "    return pd.concat(permuted_dfs), orig_loc"
   ]
  },
  {
   "cell_type": "code",
   "execution_count": 183,
   "metadata": {},
   "outputs": [],
   "source": [
    "lineup_mtcars, orig_loc = lineup(mtcars, 'hp')"
   ]
  },
  {
   "cell_type": "code",
   "execution_count": 188,
   "metadata": {},
   "outputs": [
    {
     "data": {
      "text/plain": [
       "array([ 0,  1,  2,  3,  4,  5,  6,  7,  8,  9, 10, 11, 12, 13, 14, 15, 16,\n",
       "       17, 18, 19], dtype=int64)"
      ]
     },
     "execution_count": 188,
     "metadata": {},
     "output_type": "execute_result"
    }
   ],
   "source": [
    "lineup_mtcars['.sample'].unique()"
   ]
  },
  {
   "cell_type": "code",
   "execution_count": 184,
   "metadata": {},
   "outputs": [
    {
     "data": {
      "text/plain": [
       "3"
      ]
     },
     "execution_count": 184,
     "metadata": {},
     "output_type": "execute_result"
    }
   ],
   "source": [
    "orig_loc"
   ]
  },
  {
   "cell_type": "code",
   "execution_count": 185,
   "metadata": {},
   "outputs": [
    {
     "name": "stdout",
     "output_type": "stream",
     "text": [
      "<class 'pandas.core.frame.DataFrame'>\n",
      "Int64Index: 640 entries, 0 to 31\n",
      "Data columns (total 12 columns):\n",
      "mpg        640 non-null float64\n",
      "cyl        640 non-null int64\n",
      "disp       640 non-null float64\n",
      "hp         640 non-null int64\n",
      "drat       640 non-null float64\n",
      "wt         640 non-null float64\n",
      "qsec       640 non-null float64\n",
      "vs         640 non-null int64\n",
      "am         640 non-null int64\n",
      "gear       640 non-null int64\n",
      "carb       640 non-null int64\n",
      ".sample    640 non-null int64\n",
      "dtypes: float64(5), int64(7)\n",
      "memory usage: 65.0 KB\n"
     ]
    }
   ],
   "source": [
    "lineup_mtcars.info()"
   ]
  },
  {
   "cell_type": "markdown",
   "metadata": {},
   "source": [
    "See that original mtcars dataset is in the right \".sample\" place:"
   ]
  },
  {
   "cell_type": "code",
   "execution_count": 186,
   "metadata": {},
   "outputs": [
    {
     "data": {
      "text/plain": [
       "True"
      ]
     },
     "execution_count": 186,
     "metadata": {},
     "output_type": "execute_result"
    }
   ],
   "source": [
    "mtcars.equals(lineup_mtcars[lineup_mtcars['.sample'] == orig_loc].drop(columns=['.sample']))"
   ]
  },
  {
   "cell_type": "markdown",
   "metadata": {},
   "source": [
    "Now plot the lineup:"
   ]
  },
  {
   "cell_type": "code",
   "execution_count": 254,
   "metadata": {},
   "outputs": [
    {
     "data": {
      "image/png": "[encoded data removed]",
      "text/plain": [
       "<Figure size 648x518.4 with 20 Axes>"
      ]
     },
     "metadata": {},
     "output_type": "display_data"
    }
   ],
   "source": [
    "g = sns.FacetGrid(lineup_mtcars, col='.sample', col_wrap=5, size=1.8)\n",
    "g = g.map(plt.scatter, 'disp', 'hp', edgecolor='w').set_titles('{col_name}')\n",
    "g.fig.suptitle('Is there a relation between a car\\'s Engine Displacement and its Horse Power? (n = 32)')\n",
    "plt.subplots_adjust(top=0.9)"
   ]
  },
  {
   "cell_type": "markdown",
   "metadata": {},
   "source": [
    "# Mosaic plot (fly dataset)"
   ]
  },
  {
   "cell_type": "code",
   "execution_count": 244,
   "metadata": {},
   "outputs": [
    {
     "data": {
      "text/html": [
       "<div>\n",
       "<style scoped>\n",
       "    .dataframe tbody tr th:only-of-type {\n",
       "        vertical-align: middle;\n",
       "    }\n",
       "\n",
       "    .dataframe tbody tr th {\n",
       "        vertical-align: top;\n",
       "    }\n",
       "\n",
       "    .dataframe thead th {\n",
       "        text-align: right;\n",
       "    }\n",
       "</style>\n",
       "<table border=\"1\" class=\"dataframe\">\n",
       "  <thead>\n",
       "    <tr style=\"text-align: right;\">\n",
       "      <th></th>\n",
       "      <th>ID</th>\n",
       "      <th>FlightFreq</th>\n",
       "      <th>DoYouRecline</th>\n",
       "      <th>Height</th>\n",
       "      <th>Child18</th>\n",
       "      <th>Seats3_2Arms</th>\n",
       "      <th>Seats2_1Arm</th>\n",
       "      <th>WhoControlsWindowShade</th>\n",
       "      <th>RudeToMoveToUnsoldSeat</th>\n",
       "      <th>RudeToTalkToNeighbor</th>\n",
       "      <th>...</th>\n",
       "      <th>RudeToWakeNeighborForWalk</th>\n",
       "      <th>RudeToBringBaby</th>\n",
       "      <th>RudeToBringUnrulyChild</th>\n",
       "      <th>UseElectronicsDuringTakeoff</th>\n",
       "      <th>HaveYouSmoked</th>\n",
       "      <th>Gender</th>\n",
       "      <th>Age</th>\n",
       "      <th>HouseholdIncome</th>\n",
       "      <th>Education</th>\n",
       "      <th>Region</th>\n",
       "    </tr>\n",
       "  </thead>\n",
       "  <tbody>\n",
       "    <tr>\n",
       "      <th>0</th>\n",
       "      <td>3436139758</td>\n",
       "      <td>Once a year or less</td>\n",
       "      <td>NaN</td>\n",
       "      <td>NaN</td>\n",
       "      <td>NaN</td>\n",
       "      <td>NaN</td>\n",
       "      <td>NaN</td>\n",
       "      <td>NaN</td>\n",
       "      <td>NaN</td>\n",
       "      <td>NaN</td>\n",
       "      <td>...</td>\n",
       "      <td>NaN</td>\n",
       "      <td>NaN</td>\n",
       "      <td>NaN</td>\n",
       "      <td>NaN</td>\n",
       "      <td>NaN</td>\n",
       "      <td>NaN</td>\n",
       "      <td>NaN</td>\n",
       "      <td>NaN</td>\n",
       "      <td>NaN</td>\n",
       "      <td>NaN</td>\n",
       "    </tr>\n",
       "    <tr>\n",
       "      <th>1</th>\n",
       "      <td>3434278696</td>\n",
       "      <td>Once a year or less</td>\n",
       "      <td>About half the time</td>\n",
       "      <td>6'3\"</td>\n",
       "      <td>Yes</td>\n",
       "      <td>The arm rests should be shared</td>\n",
       "      <td>The arm rests should be shared</td>\n",
       "      <td>Everyone in the row should have some say</td>\n",
       "      <td>No, not rude at all</td>\n",
       "      <td>No, not at all rude</td>\n",
       "      <td>...</td>\n",
       "      <td>No, not at all rude</td>\n",
       "      <td>No</td>\n",
       "      <td>No, not at all rude</td>\n",
       "      <td>No</td>\n",
       "      <td>No</td>\n",
       "      <td>Male</td>\n",
       "      <td>30-44</td>\n",
       "      <td>NaN</td>\n",
       "      <td>Graduate degree</td>\n",
       "      <td>Pacific</td>\n",
       "    </tr>\n",
       "    <tr>\n",
       "      <th>2</th>\n",
       "      <td>3434275578</td>\n",
       "      <td>Once a year or less</td>\n",
       "      <td>Usually</td>\n",
       "      <td>5'8\"</td>\n",
       "      <td>No</td>\n",
       "      <td>Whoever puts their arm on the arm rest first</td>\n",
       "      <td>The arm rests should be shared</td>\n",
       "      <td>The person in the window seat should have excl...</td>\n",
       "      <td>No, not rude at all</td>\n",
       "      <td>No, not at all rude</td>\n",
       "      <td>...</td>\n",
       "      <td>Yes, somewhat rude</td>\n",
       "      <td>Somewhat</td>\n",
       "      <td>Yes, very rude</td>\n",
       "      <td>No</td>\n",
       "      <td>No</td>\n",
       "      <td>Male</td>\n",
       "      <td>30-44</td>\n",
       "      <td>$100,000 - $149,999</td>\n",
       "      <td>Bachelor degree</td>\n",
       "      <td>Pacific</td>\n",
       "    </tr>\n",
       "    <tr>\n",
       "      <th>3</th>\n",
       "      <td>3434268208</td>\n",
       "      <td>Once a year or less</td>\n",
       "      <td>Always</td>\n",
       "      <td>5'11\"</td>\n",
       "      <td>No</td>\n",
       "      <td>The arm rests should be shared</td>\n",
       "      <td>The arm rests should be shared</td>\n",
       "      <td>Everyone in the row should have some say</td>\n",
       "      <td>No, not rude at all</td>\n",
       "      <td>No, not at all rude</td>\n",
       "      <td>...</td>\n",
       "      <td>Yes, somewhat rude</td>\n",
       "      <td>Somewhat</td>\n",
       "      <td>Yes, very rude</td>\n",
       "      <td>No</td>\n",
       "      <td>No</td>\n",
       "      <td>Male</td>\n",
       "      <td>30-44</td>\n",
       "      <td>$0 - $24,999</td>\n",
       "      <td>Bachelor degree</td>\n",
       "      <td>Pacific</td>\n",
       "    </tr>\n",
       "    <tr>\n",
       "      <th>4</th>\n",
       "      <td>3434250245</td>\n",
       "      <td>Once a month or less</td>\n",
       "      <td>About half the time</td>\n",
       "      <td>5'7\"</td>\n",
       "      <td>No</td>\n",
       "      <td>The person in the middle seat gets both arm rests</td>\n",
       "      <td>The person in aisle</td>\n",
       "      <td>Everyone in the row should have some say</td>\n",
       "      <td>No, not rude at all</td>\n",
       "      <td>No, not at all rude</td>\n",
       "      <td>...</td>\n",
       "      <td>Yes, somewhat rude</td>\n",
       "      <td>Somewhat</td>\n",
       "      <td>Yes, very rude</td>\n",
       "      <td>Yes</td>\n",
       "      <td>No</td>\n",
       "      <td>Male</td>\n",
       "      <td>30-44</td>\n",
       "      <td>$50,000 - $99,999</td>\n",
       "      <td>Bachelor degree</td>\n",
       "      <td>Pacific</td>\n",
       "    </tr>\n",
       "  </tbody>\n",
       "</table>\n",
       "<p>5 rows × 27 columns</p>\n",
       "</div>"
      ],
      "text/plain": [
       "           ID            FlightFreq         DoYouRecline Height Child18  \\\n",
       "0  3436139758   Once a year or less                  NaN    NaN     NaN   \n",
       "1  3434278696   Once a year or less  About half the time   6'3\"     Yes   \n",
       "2  3434275578   Once a year or less              Usually   5'8\"      No   \n",
       "3  3434268208   Once a year or less               Always  5'11\"      No   \n",
       "4  3434250245  Once a month or less  About half the time   5'7\"      No   \n",
       "\n",
       "                                        Seats3_2Arms  \\\n",
       "0                                                NaN   \n",
       "1                     The arm rests should be shared   \n",
       "2       Whoever puts their arm on the arm rest first   \n",
       "3                     The arm rests should be shared   \n",
       "4  The person in the middle seat gets both arm rests   \n",
       "\n",
       "                      Seats2_1Arm  \\\n",
       "0                             NaN   \n",
       "1  The arm rests should be shared   \n",
       "2  The arm rests should be shared   \n",
       "3  The arm rests should be shared   \n",
       "4             The person in aisle   \n",
       "\n",
       "                              WhoControlsWindowShade RudeToMoveToUnsoldSeat  \\\n",
       "0                                                NaN                    NaN   \n",
       "1           Everyone in the row should have some say    No, not rude at all   \n",
       "2  The person in the window seat should have excl...    No, not rude at all   \n",
       "3           Everyone in the row should have some say    No, not rude at all   \n",
       "4           Everyone in the row should have some say    No, not rude at all   \n",
       "\n",
       "  RudeToTalkToNeighbor   ...    RudeToWakeNeighborForWalk RudeToBringBaby  \\\n",
       "0                  NaN   ...                          NaN             NaN   \n",
       "1  No, not at all rude   ...          No, not at all rude              No   \n",
       "2  No, not at all rude   ...           Yes, somewhat rude        Somewhat   \n",
       "3  No, not at all rude   ...           Yes, somewhat rude        Somewhat   \n",
       "4  No, not at all rude   ...           Yes, somewhat rude        Somewhat   \n",
       "\n",
       "  RudeToBringUnrulyChild UseElectronicsDuringTakeoff HaveYouSmoked Gender  \\\n",
       "0                    NaN                         NaN           NaN    NaN   \n",
       "1    No, not at all rude                          No            No   Male   \n",
       "2         Yes, very rude                          No            No   Male   \n",
       "3         Yes, very rude                          No            No   Male   \n",
       "4         Yes, very rude                         Yes            No   Male   \n",
       "\n",
       "     Age      HouseholdIncome        Education   Region  \n",
       "0    NaN                  NaN              NaN      NaN  \n",
       "1  30-44                  NaN  Graduate degree  Pacific  \n",
       "2  30-44  $100,000 - $149,999  Bachelor degree  Pacific  \n",
       "3  30-44         $0 - $24,999  Bachelor degree  Pacific  \n",
       "4  30-44    $50,000 - $99,999  Bachelor degree  Pacific  \n",
       "\n",
       "[5 rows x 27 columns]"
      ]
     },
     "execution_count": 244,
     "metadata": {},
     "output_type": "execute_result"
    }
   ],
   "source": [
    "fly = pd.read_csv('data/fly.csv')\n",
    "fly.head()"
   ]
  },
  {
   "cell_type": "code",
   "execution_count": 255,
   "metadata": {},
   "outputs": [
    {
     "name": "stdout",
     "output_type": "stream",
     "text": [
      "<class 'pandas.core.frame.DataFrame'>\n",
      "Int64Index: 20800 entries, 0 to 1039\n",
      "Data columns (total 28 columns):\n",
      "ID                               20800 non-null int64\n",
      "FlightFreq                       20800 non-null object\n",
      "DoYouRecline                     17160 non-null object\n",
      "Height                           17160 non-null object\n",
      "Child18                          17020 non-null object\n",
      "Seats3_2Arms                     17120 non-null object\n",
      "Seats2_1Arm                      17120 non-null object\n",
      "WhoControlsWindowShade           17120 non-null object\n",
      "RudeToMoveToUnsoldSeat           17100 non-null object\n",
      "RudeToTalkToNeighbor             17100 non-null object\n",
      "SixHrFlightRudeToLeaveSeat       17100 non-null object\n",
      "RecliningObligationToBehind      17080 non-null object\n",
      "RudeToRecline                    17080 non-null object\n",
      "EliminateReclining               17020 non-null object\n",
      "RudeToSwitchSeatsForFriends      17000 non-null object\n",
      "RudeToSwitchSeatsForFamily       17000 non-null object\n",
      "RudeToWakeNeighborForBathroom    17000 non-null object\n",
      "RudeToWakeNeighborForWalk        17000 non-null object\n",
      "RudeToBringBaby                  16980 non-null object\n",
      "RudeToBringUnrulyChild           16980 non-null object\n",
      "UseElectronicsDuringTakeoff      16980 non-null object\n",
      "HaveYouSmoked                    16980 non-null object\n",
      "Gender                           20140 non-null object\n",
      "Age                              20140 non-null object\n",
      "HouseholdIncome                  16520 non-null object\n",
      "Education                        20020 non-null object\n",
      "Region                           19960 non-null object\n",
      ".sample                          20800 non-null int64\n",
      "dtypes: int64(2), object(26)\n",
      "memory usage: 2.5+ MB\n"
     ]
    }
   ],
   "source": [
    "lineup_fly, orig_loc = lineup(fly, 'Gender')\n",
    "lineup_fly.info()"
   ]
  },
  {
   "cell_type": "code",
   "execution_count": 327,
   "metadata": {},
   "outputs": [
    {
     "data": {
      "image/png": "[encoded data removed]",
      "text/plain": [
       "<Figure size 360x360 with 3 Axes>"
      ]
     },
     "metadata": {},
     "output_type": "display_data"
    }
   ],
   "source": [
    "props = {}\n",
    "for x in ['Female', 'Male']:\n",
    "    for y, col in {'Yes': 'purple', 'Somewhat': 'blue', 'No': 'yellow'}.items():\n",
    "        props[(x, y)] ={'color': col}\n",
    "\n",
    "mosaic(fly, ['Gender', 'RudeToBringBaby'],\n",
    "       title='Is there a relation between Gender and answering \"Is it rude to bring a baby on plane\"? (n = 843)',\n",
    "       labelizer=lambda k: '',\n",
    "       properties=props)\n",
    "plt.show()"
   ]
  },
  {
   "cell_type": "code",
   "execution_count": 332,
   "metadata": {},
   "outputs": [
    {
     "data": {
      "image/png": "[encoded data removed]",
      "text/plain": [
       "<Figure size 648x518.4 with 60 Axes>"
      ]
     },
     "metadata": {},
     "output_type": "display_data"
    }
   ],
   "source": [
    "def fly_mosaic(*args,**kwargs):\n",
    "    mosaic(kwargs['data'], list(args),\n",
    "           labelizer=lambda k: '',\n",
    "           properties=props,\n",
    "           ax=plt.gca())\n",
    "\n",
    "g = sns.FacetGrid(lineup_fly, col='.sample', col_wrap=5, size=1.8)\n",
    "g = g.map_dataframe(fly_mosaic, 'Gender', 'RudeToBringBaby').set_titles('{col_name}')\n",
    "g.fig.suptitle('Is there a relation between Gender and answering \"Is it rude to bring a baby on plane\"? (n = 843)')\n",
    "plt.subplots_adjust(top=0.9)"
   ]
  }
 ],
 "metadata": {
  "kernelspec": {
   "display_name": "Python 3",
   "language": "python",
   "name": "python3"
  },
  "language_info": {
   "codemirror_mode": {
    "name": "ipython",
    "version": 3
   },
   "file_extension": ".py",
   "mimetype": "text/x-python",
   "name": "python",
   "nbconvert_exporter": "python",
   "pygments_lexer": "ipython3",
   "version": "3.6.5"
  }
 },
 "nbformat": 4,
 "nbformat_minor": 1
}
